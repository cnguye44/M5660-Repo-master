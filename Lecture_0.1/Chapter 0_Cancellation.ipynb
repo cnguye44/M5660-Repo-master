{
 "cells": [
  {
   "cell_type": "markdown",
   "metadata": {},
   "source": [
    "This demo illustrates some of the **\"catastrophic\" cancelation** that can occur when subtracting like numbers.\n",
    "\n",
    "We start by importing our usual libraries, plus the system library **sys** for some extra features.\n"
   ]
  },
  {
   "cell_type": "code",
   "execution_count": 1,
   "metadata": {
    "collapsed": false
   },
   "outputs": [
    {
     "name": "stderr",
     "output_type": "stream",
     "text": [
      "/Users/Undertrick/anaconda/lib/python2.7/site-packages/matplotlib/font_manager.py:273: UserWarning: Matplotlib is building the font cache using fc-list. This may take a moment.\n",
      "  warnings.warn('Matplotlib is building the font cache using fc-list. This may take a moment.')\n"
     ]
    },
    {
     "name": "stdout",
     "output_type": "stream",
     "text": [
      "Populating the interactive namespace from numpy and matplotlib\n"
     ]
    }
   ],
   "source": [
    "%matplotlib inline\n",
    "%pylab inline\n",
    "pylab.rcParams['figure.figsize'] = (10, 6)\n",
    "import numpy as np\n",
    "import pylab as plt\n",
    "import sys\n",
    "\n",
    "#let us use Tex in our figure captions\n",
    "plt.rc('text', usetex=True)"
   ]
  },
  {
   "cell_type": "markdown",
   "metadata": {},
   "source": [
    "Here we output matchine epsilon as a decimal and as a hexidecimal number.  It's $2^{-52}$."
   ]
  },
  {
   "cell_type": "code",
   "execution_count": 2,
   "metadata": {
    "collapsed": false
   },
   "outputs": [
    {
     "name": "stdout",
     "output_type": "stream",
     "text": [
      "epsilon=2.22045e-16\n",
      "epsilon(hex) = 0x1.0000000000000p-52\n"
     ]
    }
   ],
   "source": [
    "print 'epsilon=%g' % sys.float_info.epsilon\n",
    "# output: 2.22045e-16\n",
    "epsilon = sys.float_info.epsilon\n",
    "print 'epsilon(hex) = %s' % float.hex(epsilon)\n",
    "# output:  0x1.0000000000000p-52"
   ]
  },
  {
   "cell_type": "markdown",
   "metadata": {},
   "source": [
    "We're going to be very explicit and declare 1.0 and 2.0 as variables.  Sadly, there is no const declaration in Python,  unlike Fortran or C++.\n",
    "\n",
    "The goal is to numerically compute the derivative of $f(x)=x$ near $x=1$.  If we use the limit definition of the derivative, we have\n",
    "\n",
    "$$ f^\\prime(x) \\approx \\frac{f(x+h)-f(x)}{h} = \\frac{ (1+h)-1}{h}  $$\n",
    "As this is equivalent to two points formula for finding the slope of the line, in any arithmatic, this should be exact. \n",
    "\n",
    "Here we compute three different formulas for computing the slope, using a set of $h$ values near machine epsilon. \n",
    "The second formula is just using the distributive rule, **which only holds in exact arithmatic**\n",
    "\n",
    "The third formula uses a central difference formula for $f^\\prime(x)$, namely\n",
    "$$\n",
    "f^\\prime(x)=\\frac{f(x+h)-f(x-h)}{2h}\n",
    "$$"
   ]
  },
  {
   "cell_type": "code",
   "execution_count": 3,
   "metadata": {
    "collapsed": true
   },
   "outputs": [],
   "source": [
    "y=np.linspace(1e-15,5e-17,3000) #vector of finite difference deltas\n",
    "one = np.float64(1.0) \n",
    "two = np.float64(2.0)\n",
    "x=np.divide((y+one)-one,y) #forward difference\n",
    "x2=np.divide((one-one)+y,y) #rearranged forward difference\n",
    "x3=np.divide((one+y)-(one-y),two*y) #central difference"
   ]
  },
  {
   "cell_type": "markdown",
   "metadata": {},
   "source": [
    "Note that we work on the entire array of $h$'s at once- a *vector* algorithm.  We know plot the results."
   ]
  },
  {
   "cell_type": "code",
   "execution_count": 4,
   "metadata": {
    "collapsed": false
   },
   "outputs": [
    {
     "data": {
      "image/png": "[encoded data removed]",
      "text/plain": [
       "<matplotlib.figure.Figure at 0x10d911ad0>"
      ]
     },
     "metadata": {},
     "output_type": "display_data"
    }
   ],
   "source": [
    "fig, ax = plt.subplots() #multiple plots all on figure ax\n",
    "\n",
    "plt.axvline(epsilon,color='r',linestyle='--') #plot vertical line for epsilon & annotate\n",
    "ax.annotate(r\"Machine $\\varepsilon$\",xy=(epsilon,1.5),xytext=(1.5*epsilon,1.75),arrowprops=dict(facecolor='black', shrink=0.05))\n",
    "\n",
    "ax.plot(y,x, label='((x+1)-1)/x') # plot forward difference\n",
    "ax.plot(y,x2,label='((1-1)+x)/x') # plot rearranged forward difference\n",
    "ax.plot(y,x3, label='((1+x)-(1-x))/2x') # plot central difference\n",
    "plt.ylim([-.1,2.1])\n",
    "ax.legend() #print the legend in the default place(\"best\")\n",
    "\n",
    "#title \n",
    "plt.title(r\"Difference Approximations to $f^\\prime(x)=x, x=1$\") # r is for not parsing special chars\n",
    "\n",
    "plt.show()\n",
    "\n",
    "#plt.savefig('cancel.png')  #optional save the figure"
   ]
  },
  {
   "cell_type": "markdown",
   "metadata": {},
   "source": [
    "So below machine epsilon, we are approaching 100% error.\n"
   ]
  },
  {
   "cell_type": "code",
   "execution_count": null,
   "metadata": {
    "collapsed": true
   },
   "outputs": [],
   "source": []
  }
 ],
 "metadata": {
  "kernelspec": {
   "display_name": "Python [Root]",
   "language": "python",
   "name": "Python [Root]"
  },
  "language_info": {
   "codemirror_mode": {
    "name": "ipython",
    "version": 2
   },
   "file_extension": ".py",
   "mimetype": "text/x-python",
   "name": "python",
   "nbconvert_exporter": "python",
   "pygments_lexer": "ipython2",
   "version": "2.7.12"
  }
 },
 "nbformat": 4,
 "nbformat_minor": 0
}
